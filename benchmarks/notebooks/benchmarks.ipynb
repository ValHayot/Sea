{
 "cells": [
  {
   "cell_type": "code",
   "execution_count": 1,
   "metadata": {},
   "outputs": [],
   "source": [
    "# These benchmarks were collected using a dd command that wrote and read\n",
    "# 512 blocks of 2MiB from /dev/zero to /dev/shm (tmpfs)"
   ]
  },
  {
   "cell_type": "code",
   "execution_count": 2,
   "metadata": {},
   "outputs": [
    {
     "data": {
      "text/html": [
       "<div>\n",
       "<style scoped>\n",
       "    .dataframe tbody tr th:only-of-type {\n",
       "        vertical-align: middle;\n",
       "    }\n",
       "\n",
       "    .dataframe tbody tr th {\n",
       "        vertical-align: top;\n",
       "    }\n",
       "\n",
       "    .dataframe thead th {\n",
       "        text-align: right;\n",
       "    }\n",
       "</style>\n",
       "<table border=\"1\" class=\"dataframe\">\n",
       "  <thead>\n",
       "    <tr style=\"text-align: right;\">\n",
       "      <th></th>\n",
       "      <th>device</th>\n",
       "      <th>mode</th>\n",
       "      <th>bandwidth</th>\n",
       "      <th>unit</th>\n",
       "    </tr>\n",
       "  </thead>\n",
       "  <tbody>\n",
       "    <tr>\n",
       "      <th>0</th>\n",
       "      <td>native</td>\n",
       "      <td>write</td>\n",
       "      <td>2764.8</td>\n",
       "      <td>MB/s</td>\n",
       "    </tr>\n",
       "    <tr>\n",
       "      <th>1</th>\n",
       "      <td>native</td>\n",
       "      <td>cached</td>\n",
       "      <td>6656.0</td>\n",
       "      <td>MB/s</td>\n",
       "    </tr>\n",
       "    <tr>\n",
       "      <th>2</th>\n",
       "      <td>native</td>\n",
       "      <td>read</td>\n",
       "      <td>6963.2</td>\n",
       "      <td>MB/s</td>\n",
       "    </tr>\n",
       "    <tr>\n",
       "      <th>3</th>\n",
       "      <td>native</td>\n",
       "      <td>write</td>\n",
       "      <td>2764.8</td>\n",
       "      <td>MB/s</td>\n",
       "    </tr>\n",
       "    <tr>\n",
       "      <th>4</th>\n",
       "      <td>native</td>\n",
       "      <td>cached</td>\n",
       "      <td>6758.4</td>\n",
       "      <td>MB/s</td>\n",
       "    </tr>\n",
       "    <tr>\n",
       "      <th>5</th>\n",
       "      <td>native</td>\n",
       "      <td>read</td>\n",
       "      <td>6860.8</td>\n",
       "      <td>MB/s</td>\n",
       "    </tr>\n",
       "    <tr>\n",
       "      <th>6</th>\n",
       "      <td>native</td>\n",
       "      <td>write</td>\n",
       "      <td>2662.4</td>\n",
       "      <td>MB/s</td>\n",
       "    </tr>\n",
       "    <tr>\n",
       "      <th>7</th>\n",
       "      <td>native</td>\n",
       "      <td>cached</td>\n",
       "      <td>6656.0</td>\n",
       "      <td>MB/s</td>\n",
       "    </tr>\n",
       "    <tr>\n",
       "      <th>8</th>\n",
       "      <td>native</td>\n",
       "      <td>read</td>\n",
       "      <td>6758.4</td>\n",
       "      <td>MB/s</td>\n",
       "    </tr>\n",
       "    <tr>\n",
       "      <th>9</th>\n",
       "      <td>native</td>\n",
       "      <td>write</td>\n",
       "      <td>2764.8</td>\n",
       "      <td>MB/s</td>\n",
       "    </tr>\n",
       "  </tbody>\n",
       "</table>\n",
       "</div>"
      ],
      "text/plain": [
       "   device    mode  bandwidth  unit\n",
       "0  native   write     2764.8  MB/s\n",
       "1  native  cached     6656.0  MB/s\n",
       "2  native    read     6963.2  MB/s\n",
       "3  native   write     2764.8  MB/s\n",
       "4  native  cached     6758.4  MB/s\n",
       "5  native    read     6860.8  MB/s\n",
       "6  native   write     2662.4  MB/s\n",
       "7  native  cached     6656.0  MB/s\n",
       "8  native    read     6758.4  MB/s\n",
       "9  native   write     2764.8  MB/s"
      ]
     },
     "execution_count": 2,
     "metadata": {},
     "output_type": "execute_result"
    }
   ],
   "source": [
    "import pandas as pd\n",
    "import seaborn as sns\n",
    "names = ['device', 'mode', 'bandwidth', 'unit']\n",
    "df_n = pd.read_csv('../data/bench_native.csv', names=names)\n",
    "df_l = pd.read_csv('../data/bench_ld.csv', names=names)\n",
    "\n",
    "df = pd.concat([df_n, df_l])\n",
    "df.loc[df['unit'] == 'GB/s', 'bandwidth'] *= 1024\n",
    "df.loc[df['unit'] == 'GB/s', 'unit'] = 'MB/s'\n",
    "df.loc[df['device'] == '/dev/shm/native.txt', 'device'] = 'native'\n",
    "df.loc[df['device'] == './mount/ld.txt', 'device'] = 'preload'\n",
    "df.head(10)"
   ]
  },
  {
   "cell_type": "code",
   "execution_count": 3,
   "metadata": {},
   "outputs": [
    {
     "data": {
      "text/plain": [
       "(0, 8000)"
      ]
     },
     "execution_count": 3,
     "metadata": {},
     "output_type": "execute_result"
    },
    {
     "data": {
      "image/png": "[encoded data removed]",
      "text/plain": [
       "<Figure size 432x288 with 1 Axes>"
      ]
     },
     "metadata": {
      "needs_background": "light"
     },
     "output_type": "display_data"
    }
   ],
   "source": [
    "## WRITE BW\n",
    "ax = sns.boxplot(x=\"device\", y=\"bandwidth\", data=df[df['mode'] == 'write'])\n",
    "ax = sns.swarmplot(x=\"device\", y=\"bandwidth\", data=df[df['mode'] == 'write'])\n",
    "ax.set_ylim(0, 8000)"
   ]
  },
  {
   "cell_type": "code",
   "execution_count": 4,
   "metadata": {},
   "outputs": [
    {
     "data": {
      "text/plain": [
       "(0, 8000)"
      ]
     },
     "execution_count": 4,
     "metadata": {},
     "output_type": "execute_result"
    },
    {
     "data": {
      "image/png": "[encoded data removed]",
      "text/plain": [
       "<Figure size 432x288 with 1 Axes>"
      ]
     },
     "metadata": {
      "needs_background": "light"
     },
     "output_type": "display_data"
    }
   ],
   "source": [
    "## CACHED READ BW\n",
    "ax = sns.boxplot(x=\"device\", y=\"bandwidth\", data=df[df['mode'] == 'cached'])\n",
    "ax = sns.swarmplot(x=\"device\", y=\"bandwidth\", data=df[df['mode'] == 'cached'])\n",
    "ax.set_ylim(0, 8000)"
   ]
  },
  {
   "cell_type": "code",
   "execution_count": 5,
   "metadata": {},
   "outputs": [
    {
     "data": {
      "text/plain": [
       "(0, 8000)"
      ]
     },
     "execution_count": 5,
     "metadata": {},
     "output_type": "execute_result"
    },
    {
     "data": {
      "image/png": "[encoded data removed]",
      "text/plain": [
       "<Figure size 432x288 with 1 Axes>"
      ]
     },
     "metadata": {
      "needs_background": "light"
     },
     "output_type": "display_data"
    }
   ],
   "source": [
    "## READ BW\n",
    "ax = sns.boxplot(x=\"device\", y=\"bandwidth\", data=df[df['mode'] == 'read'])\n",
    "ax = sns.swarmplot(x=\"device\", y=\"bandwidth\", data=df[df['mode'] == 'read'])\n",
    "ax.set_ylim(0, 8000)"
   ]
  }
 ],
 "metadata": {
  "kernelspec": {
   "display_name": "Python 3",
   "language": "python",
   "name": "python3"
  },
  "language_info": {
   "codemirror_mode": {
    "name": "ipython",
    "version": 3
   },
   "file_extension": ".py",
   "mimetype": "text/x-python",
   "name": "python",
   "nbconvert_exporter": "python",
   "pygments_lexer": "ipython3",
   "version": "3.5.6"
  }
 },
 "nbformat": 4,
 "nbformat_minor": 4
}
