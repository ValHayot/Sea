{
 "cells": [
  {
   "cell_type": "code",
   "execution_count": 3,
   "metadata": {},
   "outputs": [],
   "source": [
    "import seaborn as sns\n",
    "import pandas as pd\n",
    "\n",
    "df_16 = pd.read_csv(\"../results/16jobs_results.csv\")\n",
    "df_4 = pd.read_csv(\"../results/4jobs_results.csv\")"
   ]
  },
  {
   "cell_type": "code",
   "execution_count": 4,
   "metadata": {},
   "outputs": [
    {
     "data": {
      "text/html": [
       "<div>\n",
       "<style scoped>\n",
       "    .dataframe tbody tr th:only-of-type {\n",
       "        vertical-align: middle;\n",
       "    }\n",
       "\n",
       "    .dataframe tbody tr th {\n",
       "        vertical-align: top;\n",
       "    }\n",
       "\n",
       "    .dataframe thead th {\n",
       "        text-align: right;\n",
       "    }\n",
       "</style>\n",
       "<table border=\"1\" class=\"dataframe\">\n",
       "  <thead>\n",
       "    <tr style=\"text-align: right;\">\n",
       "      <th></th>\n",
       "      <th>experiment</th>\n",
       "      <th>repetition</th>\n",
       "      <th>runtime</th>\n",
       "      <th>max_mem</th>\n",
       "    </tr>\n",
       "  </thead>\n",
       "  <tbody>\n",
       "    <tr>\n",
       "      <th>0</th>\n",
       "      <td>lustre</td>\n",
       "      <td>0</td>\n",
       "      <td>74.89</td>\n",
       "      <td>1942844</td>\n",
       "    </tr>\n",
       "    <tr>\n",
       "      <th>1</th>\n",
       "      <td>lustre</td>\n",
       "      <td>0</td>\n",
       "      <td>75.42</td>\n",
       "      <td>1942156</td>\n",
       "    </tr>\n",
       "    <tr>\n",
       "      <th>2</th>\n",
       "      <td>mem_all</td>\n",
       "      <td>0</td>\n",
       "      <td>143.03</td>\n",
       "      <td>1961564</td>\n",
       "    </tr>\n",
       "    <tr>\n",
       "      <th>3</th>\n",
       "      <td>mem_final</td>\n",
       "      <td>0</td>\n",
       "      <td>184.31</td>\n",
       "      <td>1960364</td>\n",
       "    </tr>\n",
       "    <tr>\n",
       "      <th>4</th>\n",
       "      <td>lustre</td>\n",
       "      <td>1</td>\n",
       "      <td>54.58</td>\n",
       "      <td>1939564</td>\n",
       "    </tr>\n",
       "    <tr>\n",
       "      <th>5</th>\n",
       "      <td>mem_final</td>\n",
       "      <td>1</td>\n",
       "      <td>184.28</td>\n",
       "      <td>1958296</td>\n",
       "    </tr>\n",
       "    <tr>\n",
       "      <th>6</th>\n",
       "      <td>lustre</td>\n",
       "      <td>1</td>\n",
       "      <td>54.51</td>\n",
       "      <td>1942788</td>\n",
       "    </tr>\n",
       "    <tr>\n",
       "      <th>7</th>\n",
       "      <td>mem_all</td>\n",
       "      <td>1</td>\n",
       "      <td>143.67</td>\n",
       "      <td>1959804</td>\n",
       "    </tr>\n",
       "    <tr>\n",
       "      <th>8</th>\n",
       "      <td>lustre</td>\n",
       "      <td>2</td>\n",
       "      <td>70.98</td>\n",
       "      <td>1942112</td>\n",
       "    </tr>\n",
       "    <tr>\n",
       "      <th>9</th>\n",
       "      <td>mem_final</td>\n",
       "      <td>2</td>\n",
       "      <td>186.34</td>\n",
       "      <td>1958784</td>\n",
       "    </tr>\n",
       "    <tr>\n",
       "      <th>10</th>\n",
       "      <td>lustre</td>\n",
       "      <td>2</td>\n",
       "      <td>53.33</td>\n",
       "      <td>1939060</td>\n",
       "    </tr>\n",
       "    <tr>\n",
       "      <th>11</th>\n",
       "      <td>mem_all</td>\n",
       "      <td>2</td>\n",
       "      <td>143.43</td>\n",
       "      <td>1958152</td>\n",
       "    </tr>\n",
       "    <tr>\n",
       "      <th>12</th>\n",
       "      <td>mem_final</td>\n",
       "      <td>3</td>\n",
       "      <td>185.43</td>\n",
       "      <td>1959940</td>\n",
       "    </tr>\n",
       "    <tr>\n",
       "      <th>13</th>\n",
       "      <td>lustre</td>\n",
       "      <td>3</td>\n",
       "      <td>52.09</td>\n",
       "      <td>1941456</td>\n",
       "    </tr>\n",
       "    <tr>\n",
       "      <th>14</th>\n",
       "      <td>lustre</td>\n",
       "      <td>3</td>\n",
       "      <td>70.39</td>\n",
       "      <td>1942276</td>\n",
       "    </tr>\n",
       "    <tr>\n",
       "      <th>15</th>\n",
       "      <td>mem_all</td>\n",
       "      <td>3</td>\n",
       "      <td>141.98</td>\n",
       "      <td>1959204</td>\n",
       "    </tr>\n",
       "    <tr>\n",
       "      <th>16</th>\n",
       "      <td>lustre</td>\n",
       "      <td>4</td>\n",
       "      <td>69.94</td>\n",
       "      <td>1941188</td>\n",
       "    </tr>\n",
       "  </tbody>\n",
       "</table>\n",
       "</div>"
      ],
      "text/plain": [
       "   experiment  repetition  runtime  max_mem\n",
       "0      lustre           0    74.89  1942844\n",
       "1      lustre           0    75.42  1942156\n",
       "2     mem_all           0   143.03  1961564\n",
       "3   mem_final           0   184.31  1960364\n",
       "4      lustre           1    54.58  1939564\n",
       "5   mem_final           1   184.28  1958296\n",
       "6      lustre           1    54.51  1942788\n",
       "7     mem_all           1   143.67  1959804\n",
       "8      lustre           2    70.98  1942112\n",
       "9   mem_final           2   186.34  1958784\n",
       "10     lustre           2    53.33  1939060\n",
       "11    mem_all           2   143.43  1958152\n",
       "12  mem_final           3   185.43  1959940\n",
       "13     lustre           3    52.09  1941456\n",
       "14     lustre           3    70.39  1942276\n",
       "15    mem_all           3   141.98  1959204\n",
       "16     lustre           4    69.94  1941188"
      ]
     },
     "execution_count": 4,
     "metadata": {},
     "output_type": "execute_result"
    }
   ],
   "source": [
    "df_16"
   ]
  },
  {
   "cell_type": "markdown",
   "metadata": {},
   "source": [
    "# Experiment 1 - 16 parallel jobs & 39 617MB images incremented 10 times (total data generated: ~234GiB)"
   ]
  },
  {
   "cell_type": "code",
   "execution_count": 5,
   "metadata": {},
   "outputs": [
    {
     "data": {
      "text/plain": [
       "(0.0, 193.0525)"
      ]
     },
     "execution_count": 5,
     "metadata": {},
     "output_type": "execute_result"
    },
    {
     "data": {
      "image/png": "[encoded data removed]",
      "text/plain": [
       "<Figure size 432x288 with 1 Axes>"
      ]
     },
     "metadata": {
      "needs_background": "light"
     },
     "output_type": "display_data"
    }
   ],
   "source": [
    "ax = sns.boxplot(x=\"experiment\", y=\"runtime\", data=df_16)\n",
    "ax = sns.swarmplot(x=\"experiment\", y=\"runtime\", data=df_16, color=\".25\")\n",
    "ax.set_ylim(bottom=0)"
   ]
  },
  {
   "cell_type": "markdown",
   "metadata": {},
   "source": [
    "## Experiment 2 - 4 parallel jobs & 39 617MB images incremented 10 times (total data generated:~234GiB)"
   ]
  },
  {
   "cell_type": "code",
   "execution_count": 6,
   "metadata": {},
   "outputs": [
    {
     "data": {
      "text/plain": [
       "(0.0, 202.513)"
      ]
     },
     "execution_count": 6,
     "metadata": {},
     "output_type": "execute_result"
    },
    {
     "data": {
      "image/png": "[encoded data removed]",
      "text/plain": [
       "<Figure size 432x288 with 1 Axes>"
      ]
     },
     "metadata": {
      "needs_background": "light"
     },
     "output_type": "display_data"
    }
   ],
   "source": [
    "ax = sns.boxplot(x=\"experiment\", y=\"runtime\", data=df_4)\n",
    "ax = sns.swarmplot(x=\"experiment\", y=\"runtime\", data=df_4, color=\".25\")\n",
    "ax.set_ylim(bottom=0)"
   ]
  },
  {
   "cell_type": "code",
   "execution_count": null,
   "metadata": {},
   "outputs": [],
   "source": []
  }
 ],
 "metadata": {
  "kernelspec": {
   "display_name": "Python 3",
   "language": "python",
   "name": "python3"
  },
  "language_info": {
   "codemirror_mode": {
    "name": "ipython",
    "version": 3
   },
   "file_extension": ".py",
   "mimetype": "text/x-python",
   "name": "python",
   "nbconvert_exporter": "python",
   "pygments_lexer": "ipython3",
   "version": "3.7.7"
  }
 },
 "nbformat": 4,
 "nbformat_minor": 4
}
