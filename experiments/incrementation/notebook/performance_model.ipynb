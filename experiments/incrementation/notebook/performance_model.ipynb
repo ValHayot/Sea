{
 "cells": [
  {
   "cell_type": "markdown",
   "metadata": {},
   "source": [
    "## Sea Performance Model\n",
    "\n",
    "The performace of the system as a whole can be broken down into three components: 1) The amount of time it takes\n",
    "to read the data from Lustre, 2) the amount of time it takes to read and write the required data to memory, and 3) the amount of time it takes to read and write the data to disk. \n",
    "\n",
    "First, we shall devise a simplified performance model for Lustre alone, as this will give us an upper bound to the \n",
    "added performance of Sea. We describe Lustre's performance as follows:\n",
    "\n",
    "$$ M_{l} =  \\frac{DI}{\\min{(B_{n}N, B_{lr}O)}} + \\frac{DI}{\\min{(B_{n}N, B_{lw}O)}}$$\n",
    "\n",
    "$\\text{Where,}$<br>\n",
    "$M_{l}$ represents Lustres makespan<br>\n",
    "$D$ is the size of the input dataset<br>\n",
    "$I$ is the total number of iterations<br>\n",
    "$O$ is the number of Lustre OSTs<br>\n",
    "$N$ is the number of compute nodes<br>\n",
    "$B_{n}$ is the network bandwidth<br>\n",
    "$B_{lr}$ is a Lustre OST's read bandwidth<br>\n",
    "$B_{lw}$ is a Lustre OST's write bandwidth<br>\n",
    "\n",
    "Essentially, the makespan can be descriped as the total time it takes to read and write all the data to and from Lustre. Lustre can have a bottleneck in one of two places: within the network transfer, due to limited network bandwidth, or the OSTs, due to collective disk bandwidths. It is important to account for both of these bottlenecks as they may fluctuate depending on the number of compute nodes required for a given experiment.\n"
   ]
  },
  {
   "cell_type": "markdown",
   "metadata": {},
   "source": [
    "From here, we can expand the model to calculate the performance of Sea. To simplify our understanding of the model, we will break it up into the involved storage components, namely, Lustre, local disk and tmpfs. For simplicity's sake, we will ignore flushing in the model.\n",
    "\n",
    "The makespan of the Lustre component of Sea can be calculated as follows:\n",
    "\n",
    "$$M_{sl} = \\frac{D}{\\min{(B_{n}N, B_{lr}O)}}$$\n",
    "\n",
    "Where,<br>\n",
    "$M_{sl}$ is the makespan of the Sea's Lustre component<br>\n",
    "$D$ is the size of the input dataset<br>\n",
    "$N$ is the number of compute nodes<br>\n",
    "$O$ is the number of Lustre OSTs<br>\n",
    "$B_{n}$ is the network bandwidth<br>\n",
    "$B_{lr}$ is a Lustre OST's read bandwidth<br>\n",
    "\n",
    "Unlike the Lustre makespan model, we do not account for Lustre write time here. We choose to make the assumption that all the data can fit on local disks, and the data destined for Lustre will be flushed asynchronously by Sea other than written directly."
   ]
  },
  {
   "cell_type": "markdown",
   "metadata": {},
   "source": [
    "The makespan of the tmpfs component of Sea can be described as follows:\n",
    "\n",
    "$$M_{sm} = \\frac{\\min(D(I - 1), (S - Fn)N)}{B_{mr}N} + \\frac{\\min(DI, (S - Fn)N)}{B_{mw}N}$$\n",
    "\n",
    "Where,<br>\n",
    "$M_{sm}$ is the makespan of Sea's memory component<br>\n",
    "$D$ is the size of the input dataset<br>\n",
    "$I$ is the number of iterations<br>\n",
    "$S$ is the amount of available tmpfs storage<br>\n",
    "$F$ is the size of an individual file<br>\n",
    "$n$ is the number of threads per node<br>\n",
    "$N$ is the number of compute nodes<br>\n",
    "$B_{mr}$ is the read bandwidth of tmpfs<br>\n",
    "$B_{mw}$ is the write bandwidth of tmpfs<br>\n",
    "\n",
    "The maximum number of files that can be read from memory is all read data, with the exception of the first read, which can only occur from Lustre. However, depending on the data size, it is very likely that all read data may not be stored in memory, as tmpfs storage is expected to be limited. Sea determines that there is sufficient tmpfs space to execute a write if there is at least enough space for all parallel threads to write a file on tmpfs."
   ]
  },
  {
   "cell_type": "markdown",
   "metadata": {},
   "source": [
    "The makespan of disk component of Sea can be described as follows:\n",
    "\n",
    "$$M_{sd} = \\frac{D(I - 1) - \\min(D(I - 1), (S - Fn)N)}{B_{dr}dN} + \\frac{DI - \\min(DI, (S - Fn)N)}{B_{dw}dN}$$\n",
    "\n",
    "Where,<br>\n",
    "$M_{sd}$ is the makespan of Sea's disk component<br>\n",
    "$D$ is the size of the input dataset<br>\n",
    "$I$ is the number of iterations<br>\n",
    "$S$ is the amount of available tmpfs storage<br>\n",
    "$F$ is the size of an individual file<br>\n",
    "$n$ is the number of threads per node<br>\n",
    "$N$ is the number of compute nodes<br>\n",
    "$d$ is the number of disks per compute node<br>\n",
    "$B_{dr}$ is the disk read bandwidth<br>\n",
    "$B_{dw}$ is the disk write bandwidth<br>\n",
    "\n",
    "Here the number read and written to disk is calculate as the total amount of data to be read and written from local disk minus the amount of read and written data that has been stored in memory. As the parallel bandwidth of disk on a single node may fluctuate with the number of disks uses, the distributed bandwidth of local disk must be multiplied by the number of compute nodes and disks used."
   ]
  },
  {
   "cell_type": "markdown",
   "metadata": {},
   "source": [
    "Sea's bandwidth can therefore be calculated as a sum of the individual components. More formally, the makespan of an incrementaion pipeline running alongside Sea can be described as as:\n",
    "\n",
    "$$M_{total} = M_{sl} + M_{sm} + M_{sd}$$\n",
    "\n",
    "Where,<br>\n",
    "$M_{total}$ is the total makespan<br>\n",
    "$M_{sl}$ is the makespan of the Lustre component in Sea<br>\n",
    "$M_{sm}$ is the makespan of the memory component in Sea<br>\n",
    "$M_{sd}$ is the makespan of the disk component in Sea<br>"
   ]
  },
  {
   "cell_type": "markdown",
   "metadata": {},
   "source": [
    "### The Linux Page Cache Model\n",
    "\n",
    "\n",
    "The aforementioned models are imperfect in that they describe a scenario in which data outside of Sea is not cached in memory. This is an unlikely case as many systems leverage, by default, the Page cache in order speed up I/O to non-volatile storage media.\n",
    "\n",
    "The page cache model for reads can be described as follows:\n",
    "\n",
    "$$M_{pread} = \\frac{\\min(N(I-1)(A - Fn), D(I-1))}{B_{mr}N}$$\n",
    "\n",
    "Where,<br>\n",
    "$M_{pread}$ is the makespan of a read occurring entirely in page cache<br>\n",
    "$N$ is the number of compute nodes<br>\n",
    "$I$ is the number of iterations<br>\n",
    "$A$ is the amount of available memory<br>\n",
    "$F$ is the file size<br>\n",
    "$n$ is the number of threads in a node<br>\n",
    "$D$ is the input dataset size<br>\n",
    "$B_{mr}$ is the bandwidth of a memory read<br>\n",
    "\n",
    "A-Fn is the amount of available memory that will not be occupied by anonymous memory.... need to explain more here.\n",
    "\n",
    "The page cache model for writes can be described as follows:\n",
    "\n",
    "$$M_{pwrite} = \\frac{\\min(CNI(A - Fn), DI)}{B_{mw}N}$$\n",
    "\n",
    "Where,<br>\n",
    "$M_{wread}$ is the makespan of a write occurring entirely in page cache<br>\n",
    "$N$ is the number of compute nodes<br>\n",
    "$I$ is the number of iterations<br>\n",
    "$C$ is the percentage of page cache that can be occupied by dirty data\n",
    "$A$ is the amount of available memory<br>\n",
    "$F$ is the file size<br>\n",
    "$n$ is the number of threads in a node<br>\n",
    "$D$ is the input dataset size<br>\n",
    "$B_{mw}$ is the bandwidth of a memory write<br>\n",
    "\n",
    "\n",
    "Therefore, the Lustre makespan model can be rewritten as:\n",
    "\n",
    "$$M_{l} =  \\underbrace{{\\frac{D}{\\min{(B_{n}N, B_{lr}O)}}}}_\\text{Lustre initial read} + \\underbrace{\\frac{\\min(N(I-1)(A - Fn), D(I-1))}{B_{mr}N}}_\\text{cached reads} + \\underbrace{\\frac{D(I-1) - \\min(N(I-1)(A - Fn), D(I-1))}{\\min{(B_{n}N, B_{lr}O)}}}_\\text{non-cached reads}+ \\underbrace{\\frac{\\min(CNI(A - Fn), DI)}{B_{mw}N}}_\\text{cached writes} + \\underbrace{\\frac{DI - \\min(CNI(A - Fn), DI)}{\\min{(B_{n}N, B_{lw}O)}}}_\\text{non-cached writes}$$\n",
    "\n",
    "Where,<br>\n",
    "$M_{l}$ represents Lustres makespan<br>\n",
    "$D$ is the size of the input dataset<br>\n",
    "$I$ is the total number of iterations<br>\n",
    "$O$ is the number of Lustre OSTs<br>\n",
    "$N$ is the number of compute nodes<br>\n",
    "$C$ is the percentage of page cache that can be occupied by dirty data\n",
    "$A$ is the amount of available memory<br>\n",
    "$F$ is the file size<br>\n",
    "$n$ is the number of threads in a node<br>\n",
    "$B_{n}$ is the network bandwidth<br>\n",
    "$B_{lr}$ is a Lustre OST's read bandwidth<br>\n",
    "$B_{lw}$ is a Lustre OST's write bandwidth<br>\n",
    "$B_{mr}$ is the bandwidth of a memory read<br>\n",
    "$B_{mw}$ is the bandwidth of a memory write<br>\n",
    "\n",
    "\n",
    "As Sea leverages tmpfs space, which is considered to be part of non-reclaimable page cache, the page cache model must be adapted to remove tmpfs space from available memory. Therefore, the Sea model with page cache can be expressed as:\n",
    "\n",
    "$$M_{sea} = \\underbrace{\\frac{D}{\\min{(B_{n}N, B_{lr}O)}}}_\\text{initial Lustre read} + \\underbrace{\\frac{\\min(D(I - 1), (S - Fn)N)}{B_{mr}N} + \\frac{\\min(DI, (S - Fn)N)}{B_{mw}N}}_\\text{tmpfs I/O} + \\underbrace{\\frac{\\min(N(I-1)(A - S - 2Fn), D(I - 1) - \\min(D(I - 1), (S - Fn)N))}{B_{mr}N}}_\\text{cached disk read} + \\underbrace{\\frac{D(I-1) - \\min(N(I-1)(A - S - 2Fn), D(I - 1) - \\min(D(I - 1), (S - Fn)N))}{B_{dr}dN}}_\\text{uncached disk read} + \\underbrace{\\frac{\\min(CNI(A - S - 2Fn), DI - \\min(DI, (S - Fn)N))}{B_{mw}N}}_\\text{cached disk write} + \\underbrace{\\frac{DI - \\min(CNI(A - S - 2Fn), DI - \\min(DI, (S - Fn)N))}{B_{dw}dN}}_\\text{uncached disk write}$$\n",
    "\n"
   ]
  },
  {
   "cell_type": "code",
   "execution_count": 1,
   "metadata": {},
   "outputs": [],
   "source": [
    "## Model fixed variables\n",
    "\n",
    "num_files=1000\n",
    "file_size=617\n",
    "tmpfs_size=126*1024\n",
    "a_mem=256*1024\n",
    "dirty_ratio=0.4\n",
    "\n",
    "# bandwidths\n",
    "disk_r = 510\n",
    "disk_w = 426\n",
    "\n",
    "mem_r = 6760\n",
    "mem_w = 2560\n",
    "\n",
    "lustre_r = 200\n",
    "lustre_w = 191\n",
    "lustre_disks = 44\n",
    "\n",
    "network_bw = 4096 #1026\n",
    "\n",
    "n_threads = 6\n",
    "n_iterations = 5\n",
    "n_nodes = 5\n",
    "n_disks = 6\n"
   ]
  },
  {
   "cell_type": "code",
   "execution_count": 14,
   "metadata": {},
   "outputs": [],
   "source": [
    "## Makespan models\n",
    "\n",
    "n_written = lambda n_files, n_iterations: n_files * n_iterations # also number of files read from lustre\n",
    "\n",
    "# we assume that the files prioritized to memory will be read, which is not necessarily true\n",
    "input_size = lambda n_files, file_size: n_files * file_size\n",
    "\n",
    "# local read and writes\n",
    "local_read = (lambda\n",
    "    input_size,\n",
    "    n_iterations : input_size * (n_iterations - 1)) # first files read from lustre, last files not read\n",
    "local_write = (lambda\n",
    "    input_size,\n",
    "    n_iterations : input_size * n_iterations)\n",
    "\n",
    "# current setting for writing to tmpfs/disks\n",
    "avail_tmpfs = (lambda\n",
    "    n_nodes,\n",
    "    n_threads : tmpfs_size - (file_size * n_threads) * n_nodes)\n",
    "read_mem = (lambda\n",
    "    in_size,\n",
    "    n_its,\n",
    "    n_nodes, \n",
    "    nthreads : min(local_read(in_size, n_its), avail_tmpfs(n_nodes, nthreads)))\n",
    "write_mem = (lambda\n",
    "    in_size,\n",
    "    n_its,\n",
    "    n_nodes,\n",
    "    nthreads : min(local_write(in_size, n_its), avail_tmpfs(n_nodes, nthreads)))\n",
    "\n",
    "# lustre makespan breakdown\n",
    "lustre_read = (lambda\n",
    "    num_read,\n",
    "    network_bw,\n",
    "    n_nodes,\n",
    "    file_size : (num_read * file_size) / min (network_bw * n_nodes, lustre_r * lustre_disks))\n",
    "lustre_write = (lambda\n",
    "    num_flushed,\n",
    "    network_bw,\n",
    "    n_nodes,\n",
    "    file_size : (num_flushed * file_size) / min(network_bw * n_nodes, lustre_w * lustre_disks))\n",
    "\n",
    "# memory makespan break\n",
    "memory_read = (lambda\n",
    "    in_size,\n",
    "    n_its,\n",
    "    n_nodes,\n",
    "    n_threads : read_mem(in_size, n_its, n_nodes, n_threads) / (mem_r * n_nodes))\n",
    "memory_write = (lambda\n",
    "    in_size,\n",
    "    n_its,\n",
    "    n_nodes,\n",
    "    n_threads : write_mem(in_size, n_its, n_nodes, n_threads) / (mem_w * n_nodes))\n",
    "\n",
    "# local disk makespan breakdown\n",
    "# assumes the remainder of data fits on disk -- not necessarily true\n",
    "disk_read = (lambda\n",
    "    in_size,\n",
    "    n_its,\n",
    "    n_nodes,\n",
    "    nthreads,\n",
    "    n_disks: ((local_read(in_size, n_its) - read_mem(in_size, n_its, n_nodes, nthreads)) \n",
    "              / (disk_r * n_disks * n_nodes)))\n",
    "disk_write = (lambda\n",
    "    in_size,\n",
    "    n_its,\n",
    "    n_nodes,\n",
    "    nthreads,\n",
    "    n_disks : ((local_write(in_size, n_its) - write_mem(in_size, n_its, n_nodes, nthreads)) \n",
    "               / (disk_w * n_disks * n_nodes)))\n",
    "\n",
    "# **Total makespan**\n",
    "lustre_mksp = (lambda\n",
    "    n_files,\n",
    "    n_its,\n",
    "    network_bw,\n",
    "    n_nodes,\n",
    "    file_size : (lustre_read(n_written(n_files, n_its), network_bw, n_nodes, file_size)\n",
    "                 + lustre_write(n_written(n_files, n_its), network_bw, n_nodes, file_size)))\n",
    "\n",
    "sea_mksp = (lambda\n",
    "    n_files,\n",
    "    n_its,\n",
    "    network_bw, \n",
    "    n_nodes, \n",
    "    file_size,\n",
    "    n_threads,\n",
    "    n_disks : (lustre_read(n_files, network_bw, n_nodes, file_size)\n",
    "               + memory_read(n_files*file_size, n_its, n_nodes, n_threads) \n",
    "               + memory_write(n_files*file_size, n_its, n_nodes, n_threads) \n",
    "               + disk_read(n_files*file_size, n_its, n_nodes, n_threads, n_disks) \n",
    "               + disk_write(n_files*file_size, n_its, n_nodes, n_threads, n_disks)))\n",
    "\n",
    "# Page cache models\n",
    "cached_read = (lambda\n",
    "    n_nodes,\n",
    "    n_its,\n",
    "    a_mem,\n",
    "    file_size,\n",
    "    n_threads,\n",
    "    in_data : min(n_nodes * (n_its - 1) * (a_mem - (file_size * n_threads)), in_data * (n_its - 1)))\n",
    "\n",
    "cached_dread = (lambda\n",
    "    n_nodes,\n",
    "    n_its,\n",
    "    a_mem,\n",
    "    t_size,\n",
    "    file_size,\n",
    "    n_threads,\n",
    "    in_data : min(n_nodes * (n_its - 1) * (a_mem - t_size - 2*(file_size * n_threads)),\n",
    "                  in_data*(n_its - 1) - read_mem(in_data, n_its, n_nodes, n_threads)))\n",
    "\n",
    "cached_write = (lambda\n",
    "    dirty_ratio,\n",
    "    n_nodes,\n",
    "    n_its,\n",
    "    a_mem,\n",
    "    file_size,\n",
    "    n_threads,\n",
    "    in_data: min(dirty_ratio * n_nodes * n_its * (a_mem - (file_size * n_threads)), in_data * n_its))\n",
    "                \n",
    "cached_dwrite = (lambda\n",
    "    dirty_ratio,\n",
    "    n_nodes,\n",
    "    n_its,\n",
    "    a_mem,\n",
    "    t_size,\n",
    "    file_size,\n",
    "    n_threads,\n",
    "    in_data: min(dirty_ratio * n_nodes * n_its * (a_mem - t_size - 2*(file_size * n_threads)),\n",
    "                 in_data * n_its - write_mem(in_data, n_its, n_nodes, n_threads)))\n",
    "\n",
    "m_pread = (lambda\n",
    "    n_nodes,\n",
    "    n_its,\n",
    "    a_mem,\n",
    "    file_size,\n",
    "    n_threads,\n",
    "    in_data,\n",
    "    b_mr : cached_read(n_nodes, n_its, a_mem, file_size, n_threads, in_data) / (b_mr * n_nodes))\n",
    "\n",
    "m_pwrite = (lambda\n",
    "    dirty_ratio,\n",
    "    n_nodes,\n",
    "    n_its,\n",
    "    a_mem,\n",
    "    file_size,\n",
    "    n_threads,\n",
    "    in_data,\n",
    "    b_mw : cached_write(dirty_ratio, n_nodes, n_its, a_mem, file_size, n_threads, in_data) / (b_mw * n_nodes))\n",
    "\n",
    "# **With PC**\n",
    "lpc_mksp = (lambda\n",
    "    n_files,\n",
    "    n_its,\n",
    "    network_bw,\n",
    "    n_nodes,\n",
    "    file_size,\n",
    "    a_mem,\n",
    "    n_threads,\n",
    "    in_data,\n",
    "    b_mr,\n",
    "    dirty_ratio,\n",
    "    b_mw : (lustre_read(n_written(n_files, 1), network_bw, n_nodes, file_size)\n",
    "                 + m_pread(n_nodes, n_its, a_mem, file_size, n_threads, in_data, b_mr)\n",
    "                 + (((in_data * (n_its - 1)) - cached_read(n_nodes, n_its, a_mem, file_size, n_threads, in_data))\n",
    "                    / min (network_bw * n_nodes, lustre_r * lustre_disks))\n",
    "                 + m_pwrite(dirty_ratio, n_nodes, n_its, a_mem, file_size, n_threads, in_data, b_mw)\n",
    "                 + (((n_its * in_data) - cached_write(dirty_ratio, n_nodes, n_its, a_mem, file_size, n_threads, in_data))\n",
    "                    / min(network_bw * n_nodes, lustre_r * lustre_disks))))\n",
    "spc_mksp = (lambda\n",
    "    n_files,\n",
    "    n_its,\n",
    "    network_bw, \n",
    "    n_nodes, \n",
    "    file_size,\n",
    "    n_threads,\n",
    "    n_disks,\n",
    "    dirty_ratio,\n",
    "    a_mem,\n",
    "    in_data,\n",
    "    b_mr,\n",
    "    b_mw : (lustre_read(n_files, network_bw, n_nodes, file_size)\n",
    "            + memory_read(n_files*file_size, n_its, n_nodes, n_threads)\n",
    "            + memory_write(n_files*file_size, n_its, n_nodes, n_threads)\n",
    "            + (cached_dread(n_nodes, n_its, a_mem, tmpfs_size, file_size, n_threads, in_data) / (b_mr*n_nodes))\n",
    "            + (cached_dwrite(dirty_ratio, n_nodes, n_its, a_mem, tmpfs_size, file_size, n_threads, in_data) / (b_mw*n_nodes))\n",
    "            + (((in_data * (n_its - 1)) - cached_dread(n_nodes, n_its, a_mem, tmpfs_size, file_size, n_threads, in_data)) / (disk_r * n_disks * n_nodes))\n",
    "            + (((in_data * n_its)  - cached_dwrite(dirty_ratio, n_nodes, n_its, a_mem, tmpfs_size, file_size, n_threads, in_data)) / (disk_w * n_disks * n_nodes))\n",
    "            )\n",
    "    )"
   ]
  },
  {
   "cell_type": "markdown",
   "metadata": {},
   "source": [
    "### Model evaluation - Network bandwidth"
   ]
  },
  {
   "cell_type": "code",
   "execution_count": 15,
   "metadata": {},
   "outputs": [
    {
     "data": {
      "text/plain": [
       "(0.0, 103.9)"
      ]
     },
     "execution_count": 15,
     "metadata": {},
     "output_type": "execute_result"
    },
    {
     "data": {
      "image/png": "[encoded data removed]",
      "text/plain": [
       "<Figure size 432x288 with 1 Axes>"
      ]
     },
     "metadata": {
      "needs_background": "light"
     },
     "output_type": "display_data"
    }
   ],
   "source": [
    "bw = range(128, 100*128, 128)\n",
    "gbps = [b/128 for b in bw]\n",
    "\n",
    "lustre = [lpc_mksp(num_files, n_iterations, b, n_nodes, file_size, a_mem, n_threads, num_files*file_size, mem_r, dirty_ratio, mem_w) for b in bw]\n",
    "sea = [spc_mksp(num_files, n_iterations, b, n_nodes, file_size, n_threads, n_disks, dirty_ratio, a_mem, num_files*file_size, mem_r, mem_w) for b in bw]\n",
    "\n",
    "import seaborn as sns\n",
    "import matplotlib.pyplot as plt\n",
    "\n",
    "sns.lineplot(x=gbps, y=lustre, label=\"Lustre\")\n",
    "sns.lineplot(x=gbps, y=sea, label=\"Sea - Flush last\")\n",
    "plt.xlabel(\"Network Bandwidth (Gbps)\")\n",
    "plt.ylabel(\"Makespan (s)\")\n",
    "plt.xlim(0)"
   ]
  },
  {
   "cell_type": "markdown",
   "metadata": {},
   "source": [
    "### Model evaluation - Number of nodes"
   ]
  },
  {
   "cell_type": "code",
   "execution_count": 16,
   "metadata": {},
   "outputs": [
    {
     "data": {
      "text/plain": [
       "Text(0, 0.5, 'Makespan (s)')"
      ]
     },
     "execution_count": 16,
     "metadata": {},
     "output_type": "execute_result"
    },
    {
     "data": {
      "image/png": "[encoded data removed]",
      "text/plain": [
       "<Figure size 432x288 with 1 Axes>"
      ]
     },
     "metadata": {
      "needs_background": "light"
     },
     "output_type": "display_data"
    }
   ],
   "source": [
    "import pandas as pd\n",
    "import seaborn as sns\n",
    "import matplotlib.pyplot as plt\n",
    "\n",
    "nodes = range(1,9)\n",
    "b = 4*128\n",
    "lustre = [lpc_mksp(num_files, n_iterations, b, n, file_size, a_mem, n_threads, num_files*file_size, mem_r, dirty_ratio, mem_w) for n in nodes]\n",
    "sea = [spc_mksp(num_files, n_iterations, b, n, file_size, n_threads, n_disks, dirty_ratio, a_mem, num_files*file_size, mem_r, mem_w) for n in nodes]\n",
    "\n",
    "df = pd.read_csv(\"../results/exp_6t_5i_n35.out\")\n",
    "df[\"nodes\"] = df[\"experiment\"].apply(lambda row: int(row.split('n_')[0].split(\"_\")[-1]))\n",
    "df[\"experiment\"] = df[\"experiment\"].apply((lambda row: row.split(\"_\")[0] if \"lustre\" in row else row.split(\"_\")[1]))\n",
    "\n",
    "df_lustre=df[df[\"experiment\"] == \"lustre\"]\n",
    "df_last=df[df[\"experiment\"] == \"mem\"]\n",
    "\n",
    "sns.lineplot(x=nodes, y=lustre, label=\"Lustre (model)\")\n",
    "sns.lineplot(x=nodes, y=sea, label=\"Sea - Flush last (model)\")\n",
    "sns.scatterplot(data=df_lustre, x=\"nodes\", y=\"runtime\", label=\"Lustre (real)\")\n",
    "sns.scatterplot(data=df_last, x=\"nodes\", y=\"runtime\", label=\"Sea - Flush last (real)\")\n",
    "plt.xlabel(\"Number of nodes\")\n",
    "plt.ylabel(\"Makespan (s)\")"
   ]
  },
  {
   "cell_type": "markdown",
   "metadata": {},
   "source": [
    "### Model evaluation - Number of disks"
   ]
  },
  {
   "cell_type": "code",
   "execution_count": 17,
   "metadata": {},
   "outputs": [
    {
     "data": {
      "text/plain": [
       "Text(0, 0.5, 'Makespan (s)')"
      ]
     },
     "execution_count": 17,
     "metadata": {},
     "output_type": "execute_result"
    },
    {
     "data": {
      "image/png": "[encoded data removed]",
      "text/plain": [
       "<Figure size 432x288 with 1 Axes>"
      ]
     },
     "metadata": {
      "needs_background": "light"
     },
     "output_type": "display_data"
    }
   ],
   "source": [
    "import pandas as pd\n",
    "import seaborn as sns\n",
    "import matplotlib.pyplot as plt\n",
    "\n",
    "nodes = 5\n",
    "bw = 4*8\n",
    "disks = [1, 2, 4, 6] #range(1, 7)\n",
    "\n",
    "lustre = [lpc_mksp(num_files, n_iterations, b, nodes, file_size, a_mem, n_threads, num_files*file_size, mem_r, dirty_ratio, mem_w) for d in disks]\n",
    "sea = [spc_mksp(num_files, n_iterations, b, nodes, file_size, n_threads, d, dirty_ratio, a_mem, num_files*file_size, mem_r, mem_w) for d in disks]\n",
    "\n",
    "df = pd.read_csv(\"../results/experiment_disks.out\")\n",
    "df = df[(df[\"experiment\"].str.contains(\"mem\"))]\n",
    "df[\"disks\"] = df[\"experiment\"].apply(lambda name: int(name.split(\"d_\")[0].split(\"_\")[-1]))\n",
    "df = df.sort_values(by=['disks'])\n",
    "\n",
    "sns.lineplot(x=disks, y=lustre, label=\"Lustre (Model)\")\n",
    "sns.lineplot(x=disks, y=sea, label=\"Sea - Flush last (Model)\")\n",
    "sns.scatterplot(data=df, x=\"disks\", y=\"runtime\", label=\"Sea- Flush last (Real)\", color=\"orange\")\n",
    "plt.xlabel(\"Number of disks\")\n",
    "plt.ylabel(\"Makespan (s)\")"
   ]
  },
  {
   "cell_type": "markdown",
   "metadata": {},
   "source": [
    "### Model evaluation - Number of iterations"
   ]
  },
  {
   "cell_type": "code",
   "execution_count": 19,
   "metadata": {},
   "outputs": [
    {
     "data": {
      "text/plain": [
       "(0.0, 20.0)"
      ]
     },
     "execution_count": 19,
     "metadata": {},
     "output_type": "execute_result"
    },
    {
     "data": {
      "image/png": "[encoded data removed]",
      "text/plain": [
       "<Figure size 432x288 with 1 Axes>"
      ]
     },
     "metadata": {
      "needs_background": "light"
     },
     "output_type": "display_data"
    }
   ],
   "source": [
    "import pandas as pd\n",
    "import seaborn as sns\n",
    "import matplotlib.pyplot as plt\n",
    "\n",
    "nodes = 5\n",
    "bw = 4*8\n",
    "d = 6\n",
    "n_iterations = range(1, 21)\n",
    "\n",
    "lustre = [lpc_mksp(num_files, i, b, nodes, file_size, a_mem, n_threads, num_files*file_size, mem_r, dirty_ratio, mem_w)  for i in n_iterations]\n",
    "sea = [spc_mksp(num_files, i, b, nodes, file_size, n_threads, d, dirty_ratio, a_mem, num_files*file_size, mem_r, mem_w) for i in n_iterations]\n",
    "\n",
    "\n",
    "sns.lineplot(x=n_iterations, y=lustre, label=\"Lustre (Model)\")\n",
    "sns.lineplot(x=n_iterations, y=sea, label=\"Sea - Flush last (Model)\")\n",
    "#sns.scatterplot(data=df, x=\"disks\", y=\"runtime\", label=\"Sea- Flush last (Real)\", color=\"orange\")\n",
    "plt.xlabel(\"Number of iterations\")\n",
    "plt.ylabel(\"Makespan (s)\")\n",
    "plt.xlim(0, 20)"
   ]
  },
  {
   "cell_type": "markdown",
   "metadata": {},
   "source": [
    "### Model evaluation - Number of files"
   ]
  },
  {
   "cell_type": "code",
   "execution_count": 20,
   "metadata": {},
   "outputs": [
    {
     "data": {
      "text/plain": [
       "(0.0, 22499.16625462278)"
      ]
     },
     "execution_count": 20,
     "metadata": {},
     "output_type": "execute_result"
    },
    {
     "data": {
      "image/png": "[encoded data removed]",
      "text/plain": [
       "<Figure size 432x288 with 1 Axes>"
      ]
     },
     "metadata": {
      "needs_background": "light"
     },
     "output_type": "display_data"
    }
   ],
   "source": [
    "import pandas as pd\n",
    "import seaborn as sns\n",
    "import matplotlib.pyplot as plt\n",
    "\n",
    "nodes = 5\n",
    "bw = 4*8\n",
    "d = 6\n",
    "i = 5\n",
    "num_files = range(0, 10001)\n",
    "\n",
    "lustre = [lpc_mksp(f, i, b, nodes, file_size, a_mem, n_threads, f*file_size, mem_r, dirty_ratio, mem_w) for f in num_files]\n",
    "sea = [spc_mksp(f, i, b, nodes, file_size, n_threads, d, dirty_ratio, a_mem, f*file_size, mem_r, mem_w) for f in num_files]\n",
    "\n",
    "\n",
    "sns.lineplot(x=num_files, y=lustre, label=\"Lustre (Model)\")\n",
    "sns.lineplot(x=num_files, y=sea, label=\"Sea - Flush last (Model)\")\n",
    "#sns.scatterplot(data=df, x=\"disks\", y=\"runtime\", label=\"Sea- Flush last (Real)\", color=\"orange\")\n",
    "plt.xlabel(\"Number of files\")\n",
    "plt.ylabel(\"Makespan (s)\")\n",
    "plt.xlim(0,10001)\n",
    "plt.ylim(0)"
   ]
  },
  {
   "cell_type": "markdown",
   "metadata": {},
   "source": [
    "### Model evaluation - Number of threads"
   ]
  },
  {
   "cell_type": "code",
   "execution_count": 21,
   "metadata": {},
   "outputs": [
    {
     "data": {
      "text/plain": [
       "(0.0, 836.0354924669223)"
      ]
     },
     "execution_count": 21,
     "metadata": {},
     "output_type": "execute_result"
    },
    {
     "data": {
      "image/png": "[encoded data removed]",
      "text/plain": [
       "<Figure size 432x288 with 1 Axes>"
      ]
     },
     "metadata": {
      "needs_background": "light"
     },
     "output_type": "display_data"
    }
   ],
   "source": [
    "import pandas as pd\n",
    "import seaborn as sns\n",
    "import matplotlib.pyplot as plt\n",
    "\n",
    "nodes = 5\n",
    "bw = 4*8\n",
    "d = 6\n",
    "i = 5\n",
    "f = 1000\n",
    "threads = range(0, 65)\n",
    "\n",
    "lustre = [lpc_mksp(f, i, b, nodes, file_size, a_mem, t, f*file_size, mem_r, dirty_ratio, mem_w) for t in threads]\n",
    "sea = [spc_mksp(f, i, b, nodes, file_size, t, d, dirty_ratio, a_mem, f*file_size, mem_r, mem_w) for t in threads]\n",
    "\n",
    "\n",
    "sns.lineplot(x=threads, y=lustre, label=\"Lustre (Model)\")\n",
    "sns.lineplot(x=threads, y=sea, label=\"Sea - Flush last (Model)\")\n",
    "#sns.scatterplot(data=df, x=\"disks\", y=\"runtime\", label=\"Sea- Flush last (Real)\", color=\"orange\")\n",
    "plt.xlabel(\"Number of threads\")\n",
    "plt.ylabel(\"Makespan (s)\")\n",
    "plt.xlim(0,65)\n",
    "plt.ylim(0)"
   ]
  },
  {
   "cell_type": "code",
   "execution_count": null,
   "metadata": {},
   "outputs": [],
   "source": []
  }
 ],
 "metadata": {
  "kernelspec": {
   "display_name": "Python 3",
   "language": "python",
   "name": "python3"
  },
  "language_info": {
   "codemirror_mode": {
    "name": "ipython",
    "version": 3
   },
   "file_extension": ".py",
   "mimetype": "text/x-python",
   "name": "python",
   "nbconvert_exporter": "python",
   "pygments_lexer": "ipython3",
   "version": "3.7.9"
  }
 },
 "nbformat": 4,
 "nbformat_minor": 4
}
