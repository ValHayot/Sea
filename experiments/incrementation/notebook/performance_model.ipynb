{
 "cells": [
  {
   "cell_type": "markdown",
   "metadata": {},
   "source": [
    "## Sea Performance Model\n",
    "\n",
    "The performace of the system as a whole can be broken down into three components: 1) The amount of time it takes\n",
    "to read the data from Lustre, 2) the amount of time it takes to read and write the required data to memory, and 3) the amount of time it takes to read and write the data to disk. \n",
    "\n",
    "First, we shall devise a simplified performance model for Lustre alone, as this will give us an upper bound to the \n",
    "added performance of Sea. We describe Lustre's performance as follows:\n",
    "\n",
    "$$ M_{l} =  \\frac{DI}{\\min{(B_{n}N, B_{lr}O)}} + \\frac{DI}{\\min{(B_{n}N, B_{lw}O)}}$$\n",
    "\n",
    "$\\text{Where,}$<br>\n",
    "$M_{l}$ represents Lustres makespan<br>\n",
    "$D$ is the size of the input dataset<br>\n",
    "$I$ is the total number of iterations<br>\n",
    "$O$ is the number of Lustre OSTs<br>\n",
    "$N$ is the number of compute nodes<br>\n",
    "$B_{n}$ is the network bandwidth<br>\n",
    "$B_{lr}$ is a Lustre OST's read bandwidth<br>\n",
    "$B_{lw}$ is a Lustre OST's write bandwidth<br>\n",
    "\n",
    "Essentially, the makespan can be descriped as the total time it takes to read and write all the data to and from Lustre. Lustre can have a bottleneck in one of two places: within the network transfer, due to limited network bandwidth, or the OSTs, due to collective disk bandwidths. It is important to account for both of these bottlenecks as they may fluctuate depending on the number of compute nodes required for a given experiment.\n"
   ]
  },
  {
   "cell_type": "markdown",
   "metadata": {},
   "source": [
    "From here, we can expand the model to calculate the performance of Sea. To simplify our understanding of the model, we will break it up into the involved storage components, namely, Lustre, local disk and tmpfs. For simplicity's sake, we will ignore flushing in the model.\n",
    "\n",
    "The makespan of the Lustre component of Sea can be calculated as follows:\n",
    "\n",
    "$$M_{sl} = \\frac{D}{\\min{(B_{n}N, B_{lr}O)}}$$\n",
    "\n",
    "Where,<br>\n",
    "$M_{sl}$ is the makespan of the Sea's Lustre component<br>\n",
    "$D$ is the size of the input dataset<br>\n",
    "$N$ is the number of compute nodes<br>\n",
    "$O$ is the number of Lustre OSTs<br>\n",
    "$B_{n}$ is the network bandwidth<br>\n",
    "$B_{lr}$ is a Lustre OST's read bandwidth<br>\n",
    "\n",
    "Unlike the Lustre makespan model, we do not account for Lustre write time here. We choose to make the assumption that all the data can fit on local disks, and the data destined for Lustre will be flushed asynchronously by Sea other than written directly."
   ]
  },
  {
   "cell_type": "markdown",
   "metadata": {},
   "source": [
    "The makespan of the tmpfs component of Sea can be described as follows:\n",
    "\n",
    "$$M_{sm} = \\frac{\\min(D(I - 1), S - (Ft) * N)}{B_{mr}} + \\frac{\\min(DI, S - (Ft) * N)}{B_{mw}}$$\n",
    "\n",
    "Where,<br>\n",
    "$M_{sm}$ is the makespan of Sea's memory component<br>\n",
    "$D$ is the size of the input dataset<br>\n",
    "$I$ is the number of iterations<br>\n",
    "$S$ is the amount of available tmpfs storage<br>\n",
    "$F$ is the size of an individual file<br>\n",
    "$t$ is the number of threads per node<br>\n",
    "$N$ is the number of compute nodes<br>\n",
    "$B_{mr}$ is the read bandwidth of tmpfs<br>\n",
    "$B_{mw}$ is the write bandwidth of tmpfs<br>\n",
    "\n",
    "The maximum number of files that can be read from memory is all read data, with the exception of the first read, which can only occur from Lustre. However, depending on the data size, it is very likely that all read data may not be stored in memory, as tmpfs storage is expected to be limited. Sea determines that there is sufficient tmpfs space to execute a write if there is at least enough space for all parallel threads to write a file on tmpfs."
   ]
  },
  {
   "cell_type": "markdown",
   "metadata": {},
   "source": [
    "The makespan of disk component of Sea can be described as follows:\n",
    "\n",
    "$$M_{sd} = \\frac{D(I - 1) - \\min(D(I - 1), S - (Ft) * N)}{B_{dr}*d*N} + \\frac{DI - \\min(DI, S - (Ft) * N)}{B_{dw}*d*N}$$\n",
    "\n",
    "Where,<br>\n",
    "$M_{sd}$ is the makespan of Sea's disk component<br>\n",
    "$D$ is the size of the input dataset<br>\n",
    "$I$ is the number of iterations<br>\n",
    "$S$ is the amount of available tmpfs storage<br>\n",
    "$F$ is the size of an individual file<br>\n",
    "$t$ is the number of threads per node<br>\n",
    "$N$ is the number of compute nodes<br>\n",
    "$d$ is the number of disks per compute node<br>\n",
    "$B_{dr}$ is the disk read bandwidth<br>\n",
    "$B_{dw}$ is the disk write bandwidth<br>\n",
    "\n",
    "Here the number read and written to disk is calculate as the total amount of data to be read and written from local disk minus the amount of read and written data that has been stored in memory. As the parallel bandwidth of disk on a single node may fluctuate with the number of disks uses, the distributed bandwidth of local disk must be multiplied by the number of compute nodes and disks used."
   ]
  },
  {
   "cell_type": "markdown",
   "metadata": {},
   "source": [
    "Sea's bandwidth can therefore be calculated as a sum of the individual components. More formally, the makespan of an incrementaion pipeline running alongside Sea can be described as as:\n",
    "\n",
    "$$M = M_{sl} + M_{sm} + M_{sd}$$\n",
    "\n",
    "Where,<br>\n",
    "$M$ is the total makespan<br>\n",
    "$M_{sl}$ is the makespan of the Lustre component in Sea<br>\n",
    "$M_{sm}$ is the makespan of the memory component in Sea<br>\n",
    "$M_{sd}$ is the makespan of the disk component in Sea<br>"
   ]
  },
  {
   "cell_type": "code",
   "execution_count": 5,
   "metadata": {},
   "outputs": [
    {
     "name": "stdout",
     "output_type": "stream",
     "text": [
      "lustre read: 350.5681818181818 lustre write: 367.0871013802951\n",
      "disk read: 154.07581699346406 disk write 232.73552425665102\n",
      "memory read: 3.2733727810650888 memory write: 8.64375\n"
     ]
    }
   ],
   "source": [
    "import pandas as pd\n",
    "## bw model\n",
    "\n",
    "num_files=1000\n",
    "file_size=617\n",
    "tmpfs_size=126*1025\n",
    "\n",
    "# bandwidths\n",
    "disk_r = 510\n",
    "disk_w = 426\n",
    "\n",
    "mem_r = 6760\n",
    "mem_w = 2560\n",
    "\n",
    "lustre_r = 200\n",
    "lustre_w = 191\n",
    "lustre_disks = 44\n",
    "\n",
    "network_bw = 4096 #1026\n",
    "n_nodes = 5\n",
    "\n",
    "n_threads = 6\n",
    "n_iterations = 5\n",
    "n_disks = 6\n",
    "\n",
    "n_written = num_files * n_iterations # also number of files read from lustre\n",
    "\n",
    "# we assume that the files prioritized to memory will be read, which is not necessarily true\n",
    "input_size = num_files * file_size\n",
    "\n",
    "# local read and writes\n",
    "local_read = input_size * (n_iterations - 1) # first files read from lustre, last files not read\n",
    "local_write = input_size * n_iterations\n",
    "\n",
    "# current setting for writing to tmpfs/disks\n",
    "avail_tmpfs = tmpfs_size - (file_size * n_threads) * n_nodes\n",
    "read_mem = min(local_read, avail_tmpfs)\n",
    "write_mem = min(local_write, avail_tmpfs)\n",
    "\n",
    "lustre_read = lambda num_read, network_bw, n_nodes : (num_read * file_size) / min (network_bw * n_nodes, lustre_r * lustre_disks)\n",
    "lustre_write = lambda num_flushed, network_bw, n_nodes : (num_flushed * file_size) / min(network_bw * n_nodes, lustre_w * lustre_disks)\n",
    "\n",
    "memory_read = lambda n_nodes : read_mem / (mem_r * n_nodes)\n",
    "memory_write = lambda n_nodes : write_mem / (mem_w * n_nodes)\n",
    "\n",
    "# assumes the remainder of data fits on disk -- not necessarily true\n",
    "disk_read = lambda n_nodes,n_disks : (local_read - read_mem) / (disk_r * n_disks * n_nodes)\n",
    "disk_write = lambda n_nodes,n_disks : (local_write - write_mem) / (disk_w * n_disks * n_nodes)\n",
    "\n",
    "lustre_mksp = lustre_read(n_written, network_bw, n_nodes) + lustre_write(n_written, network_bw, n_nodes)\n",
    "sea_last_mksp =  lustre_read(num_files, network_bw, n_nodes) + memory_read(n_nodes) + memory_write(n_nodes) + disk_read(n_nodes, n_disks) + disk_write(n_nodes, n_disks)\n",
    "\n",
    "print(\"lustre read:\", lustre_read(n_written, network_bw, n_nodes), \"lustre write:\", lustre_write(n_written, network_bw, n_nodes))\n",
    "print(\"disk read:\", disk_read(n_nodes, n_disks), \"disk write\", disk_write(n_nodes, n_disks))\n",
    "print(\"memory read:\", memory_read(n_nodes), \"memory write:\", memory_write(n_nodes))\n"
   ]
  },
  {
   "cell_type": "code",
   "execution_count": 6,
   "metadata": {},
   "outputs": [
    {
     "name": "stdout",
     "output_type": "stream",
     "text": [
      "Predicted Lustre makespan:  717.6552831984769 Actual:  788.5855894676\n",
      "Predicted Sea 'last' makespan:  468.8421003948165 Actual:  542.3694812828\n"
     ]
    }
   ],
   "source": [
    "df = pd.read_csv(\"../results/exp_6t_5i_n35.out\")\n",
    "df = df[(df[\"experiment\"].str.contains(\"5n\"))]\n",
    "df[\"experiment\"] = df[\"experiment\"].apply((lambda row: row.split(\"_\")[0] if \"lustre\" in row else row.split(\"_\")[1]))\n",
    "\n",
    "\n",
    "print(\"Predicted Lustre makespan: \", lustre_mksp, \"Actual: \", df[df[\"experiment\"].str.contains(\"lustre\")][\"runtime\"].mean())\n",
    "print(\"Predicted Sea 'last' makespan: \", sea_last_mksp, \"Actual: \", df[df[\"experiment\"].str.contains(\"mem\")][\"runtime\"].mean())\n"
   ]
  },
  {
   "cell_type": "code",
   "execution_count": 7,
   "metadata": {},
   "outputs": [],
   "source": [
    "lustre_mksp = lambda network_bw, n_nodes: lustre_read(n_written, network_bw, n_nodes) + lustre_write(n_written, network_bw, n_nodes)\n",
    "sea_mksp = lambda network_bw, n_nodes, n_disks: lustre_read(num_files, network_bw, n_nodes) + memory_read(n_nodes) + memory_write(n_nodes) + disk_read(n_nodes, n_disks) + disk_write(n_nodes, n_disks)"
   ]
  },
  {
   "cell_type": "code",
   "execution_count": 8,
   "metadata": {},
   "outputs": [
    {
     "data": {
      "text/plain": [
       "(0.0, 103.9)"
      ]
     },
     "execution_count": 8,
     "metadata": {},
     "output_type": "execute_result"
    },
    {
     "data": {
      "image/png": "[encoded data removed]",
      "text/plain": [
       "<Figure size 432x288 with 1 Axes>"
      ]
     },
     "metadata": {
      "needs_background": "light"
     },
     "output_type": "display_data"
    }
   ],
   "source": [
    "bw = range(128, 100*128, 128)\n",
    "gbps = [b/128 for b in bw]\n",
    "\n",
    "lustre = [lustre_mksp(b, n_nodes) for b in bw]\n",
    "sea = [sea_mksp(b, n_nodes, n_disks) for b in bw]\n",
    "\n",
    "import seaborn as sns\n",
    "import matplotlib.pyplot as plt\n",
    "\n",
    "sns.lineplot(x=gbps, y=lustre, label=\"Lustre\")\n",
    "sns.lineplot(x=gbps, y=sea, label=\"Sea - Flush last\")\n",
    "plt.xlabel(\"Network Bandwidth (Gbps)\")\n",
    "plt.ylabel(\"Makespan (s)\")\n",
    "plt.xlim(0)"
   ]
  },
  {
   "cell_type": "code",
   "execution_count": 9,
   "metadata": {},
   "outputs": [
    {
     "data": {
      "text/plain": [
       "Text(0, 0.5, 'Makespan (s)')"
      ]
     },
     "execution_count": 9,
     "metadata": {},
     "output_type": "execute_result"
    },
    {
     "data": {
      "image/png": "[encoded data removed]",
      "text/plain": [
       "<Figure size 432x288 with 1 Axes>"
      ]
     },
     "metadata": {
      "needs_background": "light"
     },
     "output_type": "display_data"
    }
   ],
   "source": [
    "nodes = range(1,9)\n",
    "b = 4*128\n",
    "lustre = [lustre_mksp(b, n) for n in nodes]\n",
    "sea = [sea_mksp(b, n, n_disks) for n in nodes]\n",
    "\n",
    "import seaborn as sns\n",
    "import matplotlib.pyplot as plt\n",
    "\n",
    "sns.lineplot(x=nodes, y=lustre, label=\"Lustre\")\n",
    "sns.lineplot(x=nodes, y=sea, label=\"Sea - Flush last\")\n",
    "plt.xlabel(\"Number of nodes\")\n",
    "plt.ylabel(\"Makespan (s)\")\n",
    "#plt.xlim(0,9)"
   ]
  },
  {
   "cell_type": "code",
   "execution_count": 10,
   "metadata": {},
   "outputs": [
    {
     "data": {
      "text/plain": [
       "Text(0, 0.5, 'Makespan (s)')"
      ]
     },
     "execution_count": 10,
     "metadata": {},
     "output_type": "execute_result"
    },
    {
     "data": {
      "image/png": "[encoded data removed]",
      "text/plain": [
       "<Figure size 432x288 with 1 Axes>"
      ]
     },
     "metadata": {
      "needs_background": "light"
     },
     "output_type": "display_data"
    }
   ],
   "source": [
    "nodes = 5\n",
    "bw = 4*8\n",
    "disks = [1, 2, 4, 6] #range(1, 7)\n",
    "\n",
    "lustre_mksp = lambda network_bw, n_nodes: lustre_read(n_written, network_bw, n_nodes) + lustre_write(n_written, network_bw, n_nodes)\n",
    "sea_mksp = lambda network_bw, n_nodes, n_disks: lustre_read(num_files, network_bw, n_nodes) + memory_read(n_nodes) *2 + memory_write(n_nodes) + disk_write(n_nodes, n_disks)\n",
    "\n",
    "\n",
    "lustre = [lustre_mksp(b, nodes) for d in disks]\n",
    "sea = [sea_mksp(b, nodes, d) for d in disks]\n",
    "\n",
    "\n",
    "df = pd.read_csv(\"../results/experiment_disks.out\")\n",
    "df = df[(df[\"experiment\"].str.contains(\"mem\"))]\n",
    "df[\"disks\"] = df[\"experiment\"].apply(lambda name: int(name.split(\"d_\")[0].split(\"_\")[-1]))\n",
    "df = df.sort_values(by=['disks'])\n",
    "\n",
    "\n",
    "import seaborn as sns\n",
    "import matplotlib.pyplot as plt\n",
    "\n",
    "sns.lineplot(x=disks, y=lustre, label=\"Lustre (Model)\")\n",
    "sns.lineplot(x=disks, y=sea, label=\"Sea - Flush last (Model)\")\n",
    "sns.scatterplot(data=df, x=\"disks\", y=\"runtime\", label=\"Sea- Flush last (Real)\", color=\"orange\")\n",
    "plt.xlabel(\"Number of disks\")\n",
    "plt.ylabel(\"Makespan (s)\")\n",
    "#plt.xlim(0,9)"
   ]
  },
  {
   "cell_type": "code",
   "execution_count": null,
   "metadata": {},
   "outputs": [],
   "source": []
  }
 ],
 "metadata": {
  "kernelspec": {
   "display_name": "Python 3",
   "language": "python",
   "name": "python3"
  },
  "language_info": {
   "codemirror_mode": {
    "name": "ipython",
    "version": 3
   },
   "file_extension": ".py",
   "mimetype": "text/x-python",
   "name": "python",
   "nbconvert_exporter": "python",
   "pygments_lexer": "ipython3",
   "version": "3.7.9"
  }
 },
 "nbformat": 4,
 "nbformat_minor": 4
}
